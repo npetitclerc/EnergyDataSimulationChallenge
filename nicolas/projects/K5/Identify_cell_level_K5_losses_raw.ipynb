{
  "nbformat": 4,
  "nbformat_minor": 0,
  "metadata": {
    "colab": {
      "name": "Identify cell level K5 losses_raw.ipynb",
      "provenance": [],
      "collapsed_sections": [],
      "toc_visible": true,
      "authorship_tag": "ABX9TyORoUsjwd+W8qcUilUp+uam",
      "include_colab_link": true
    },
    "kernelspec": {
      "name": "python3",
      "display_name": "Python 3"
    }
  },
  "cells": [
    {
      "cell_type": "markdown",
      "metadata": {
        "id": "view-in-github",
        "colab_type": "text"
      },
      "source": [
        "<a href=\"https://colab.research.google.com/github/npetitclerc/EnergyDataSimulationChallenge/blob/master/nicolas/projects/K5/Identify_cell_level_K5_losses_raw.ipynb\" target=\"_parent\"><img src=\"https://colab.research.google.com/assets/colab-badge.svg\" alt=\"Open In Colab\"/></a>"
      ]
    },
    {
      "cell_type": "markdown",
      "metadata": {
        "id": "auP10i2g34V9",
        "colab_type": "text"
      },
      "source": [
        "# Try to quantify how much data we are lossing from the K5 at cell level.\n",
        "\n",
        "In this notebook we use the raw numbers - before Unacast do any filtering."
      ]
    },
    {
      "cell_type": "code",
      "metadata": {
        "id": "_IjmblwO3omc",
        "colab_type": "code",
        "colab": {}
      },
      "source": [
        "import pandas as pd"
      ],
      "execution_count": 0,
      "outputs": []
    },
    {
      "cell_type": "code",
      "metadata": {
        "id": "DdUJEe9x4EAF",
        "colab_type": "code",
        "colab": {}
      },
      "source": [
        "query = \"\"\"\n",
        "  SELECT hour,\tcell_id AS global_cell_id,\tunique_imsis AS counts,\tnum_signals FROM `telia-ddi-no-dev.intermediate_output.signals_count_20200110`\n",
        "  ORDER BY\n",
        "    counts\n",
        "  \"\"\""
      ],
      "execution_count": 0,
      "outputs": []
    },
    {
      "cell_type": "code",
      "metadata": {
        "id": "JjGE95Kq4Uu2",
        "colab_type": "code",
        "colab": {
          "base_uri": "https://localhost:8080/",
          "height": 71
        },
        "outputId": "d4cbfe8b-30c4-4aaa-d0fa-bf969e3076a2"
      },
      "source": [
        "df = pd.read_gbq(query, project_id='telia-ddi-no-dev')"
      ],
      "execution_count": 3,
      "outputs": [
        {
          "output_type": "stream",
          "text": [
            "Please visit this URL to authorize this application: https://accounts.google.com/o/oauth2/auth?response_type=code&client_id=725825577420-unm2gnkiprugilg743tkbig250f4sfsj.apps.googleusercontent.com&redirect_uri=urn%3Aietf%3Awg%3Aoauth%3A2.0%3Aoob&scope=https%3A%2F%2Fwww.googleapis.com%2Fauth%2Fbigquery&state=c7gEQiNE0qpgiTM7b2YNsuV4ktxQfL&prompt=consent&access_type=offline\n",
            "Enter the authorization code: 4/wQHQ0oZs3R-pCEO7UkVlzHHQcOHKDgeu47bPhtNQoiOzrQaKcZzb0ko\n"
          ],
          "name": "stdout"
        }
      ]
    },
    {
      "cell_type": "code",
      "metadata": {
        "id": "4u5KHMth5XEk",
        "colab_type": "code",
        "outputId": "9794f8cc-2f32-412e-8e6e-6951a11ca757",
        "colab": {
          "base_uri": "https://localhost:8080/",
          "height": 419
        }
      },
      "source": [
        "df"
      ],
      "execution_count": 4,
      "outputs": [
        {
          "output_type": "execute_result",
          "data": {
            "text/html": [
              "<div>\n",
              "<style scoped>\n",
              "    .dataframe tbody tr th:only-of-type {\n",
              "        vertical-align: middle;\n",
              "    }\n",
              "\n",
              "    .dataframe tbody tr th {\n",
              "        vertical-align: top;\n",
              "    }\n",
              "\n",
              "    .dataframe thead th {\n",
              "        text-align: right;\n",
              "    }\n",
              "</style>\n",
              "<table border=\"1\" class=\"dataframe\">\n",
              "  <thead>\n",
              "    <tr style=\"text-align: right;\">\n",
              "      <th></th>\n",
              "      <th>hour</th>\n",
              "      <th>global_cell_id</th>\n",
              "      <th>counts</th>\n",
              "      <th>num_signals</th>\n",
              "    </tr>\n",
              "  </thead>\n",
              "  <tbody>\n",
              "    <tr>\n",
              "      <th>0</th>\n",
              "      <td>0</td>\n",
              "      <td>1603</td>\n",
              "      <td>5</td>\n",
              "      <td>24</td>\n",
              "    </tr>\n",
              "    <tr>\n",
              "      <th>1</th>\n",
              "      <td>0</td>\n",
              "      <td>132689012</td>\n",
              "      <td>5</td>\n",
              "      <td>7</td>\n",
              "    </tr>\n",
              "    <tr>\n",
              "      <th>2</th>\n",
              "      <td>0</td>\n",
              "      <td>21193</td>\n",
              "      <td>5</td>\n",
              "      <td>10</td>\n",
              "    </tr>\n",
              "    <tr>\n",
              "      <th>3</th>\n",
              "      <td>0</td>\n",
              "      <td>34099725</td>\n",
              "      <td>5</td>\n",
              "      <td>62</td>\n",
              "    </tr>\n",
              "    <tr>\n",
              "      <th>4</th>\n",
              "      <td>0</td>\n",
              "      <td>130097021</td>\n",
              "      <td>5</td>\n",
              "      <td>5</td>\n",
              "    </tr>\n",
              "    <tr>\n",
              "      <th>...</th>\n",
              "      <td>...</td>\n",
              "      <td>...</td>\n",
              "      <td>...</td>\n",
              "      <td>...</td>\n",
              "    </tr>\n",
              "    <tr>\n",
              "      <th>1847293</th>\n",
              "      <td>18</td>\n",
              "      <td>0</td>\n",
              "      <td>300950</td>\n",
              "      <td>615948</td>\n",
              "    </tr>\n",
              "    <tr>\n",
              "      <th>1847294</th>\n",
              "      <td>10</td>\n",
              "      <td>0</td>\n",
              "      <td>302288</td>\n",
              "      <td>637358</td>\n",
              "    </tr>\n",
              "    <tr>\n",
              "      <th>1847295</th>\n",
              "      <td>9</td>\n",
              "      <td>0</td>\n",
              "      <td>354975</td>\n",
              "      <td>689398</td>\n",
              "    </tr>\n",
              "    <tr>\n",
              "      <th>1847296</th>\n",
              "      <td>7</td>\n",
              "      <td>0</td>\n",
              "      <td>369551</td>\n",
              "      <td>669472</td>\n",
              "    </tr>\n",
              "    <tr>\n",
              "      <th>1847297</th>\n",
              "      <td>8</td>\n",
              "      <td>0</td>\n",
              "      <td>502725</td>\n",
              "      <td>889046</td>\n",
              "    </tr>\n",
              "  </tbody>\n",
              "</table>\n",
              "<p>1847298 rows × 4 columns</p>\n",
              "</div>"
            ],
            "text/plain": [
              "         hour  global_cell_id  counts  num_signals\n",
              "0           0            1603       5           24\n",
              "1           0       132689012       5            7\n",
              "2           0           21193       5           10\n",
              "3           0        34099725       5           62\n",
              "4           0       130097021       5            5\n",
              "...       ...             ...     ...          ...\n",
              "1847293    18               0  300950       615948\n",
              "1847294    10               0  302288       637358\n",
              "1847295     9               0  354975       689398\n",
              "1847296     7               0  369551       669472\n",
              "1847297     8               0  502725       889046\n",
              "\n",
              "[1847298 rows x 4 columns]"
            ]
          },
          "metadata": {
            "tags": []
          },
          "execution_count": 4
        }
      ]
    },
    {
      "cell_type": "code",
      "metadata": {
        "id": "uBFn7rVj7x25",
        "colab_type": "code",
        "colab": {}
      },
      "source": [
        "import pylab as plt\n",
        "import seaborn as sns"
      ],
      "execution_count": 0,
      "outputs": []
    },
    {
      "cell_type": "code",
      "metadata": {
        "id": "TaULSSfK77HK",
        "colab_type": "code",
        "outputId": "7377be0a-16ac-4b9d-f4ea-e9f325bfabe0",
        "colab": {
          "base_uri": "https://localhost:8080/",
          "height": 315
        }
      },
      "source": [
        "df.hist('hour', bins=24)"
      ],
      "execution_count": 6,
      "outputs": [
        {
          "output_type": "execute_result",
          "data": {
            "text/plain": [
              "array([[<matplotlib.axes._subplots.AxesSubplot object at 0x7fa948b4df60>]],\n",
              "      dtype=object)"
            ]
          },
          "metadata": {
            "tags": []
          },
          "execution_count": 6
        },
        {
          "output_type": "display_data",
          "data": {
            "image/png": "[encoded data removed]",
            "text/plain": [
              "<Figure size 432x288 with 1 Axes>"
            ]
          },
          "metadata": {
            "tags": []
          }
        }
      ]
    },
    {
      "cell_type": "code",
      "metadata": {
        "id": "GxIJ_U0w7_MQ",
        "colab_type": "code",
        "outputId": "ede24bd7-c7c7-43d9-d038-9932849362de",
        "colab": {
          "base_uri": "https://localhost:8080/",
          "height": 315
        }
      },
      "source": [
        "import numpy as np\n",
        "df.hist('counts', bins=range(50))"
      ],
      "execution_count": 7,
      "outputs": [
        {
          "output_type": "execute_result",
          "data": {
            "text/plain": [
              "array([[<matplotlib.axes._subplots.AxesSubplot object at 0x7fa948163cf8>]],\n",
              "      dtype=object)"
            ]
          },
          "metadata": {
            "tags": []
          },
          "execution_count": 7
        },
        {
          "output_type": "display_data",
          "data": {
            "image/png": "[encoded data removed]",
            "text/plain": [
              "<Figure size 432x288 with 1 Axes>"
            ]
          },
          "metadata": {
            "tags": []
          }
        }
      ]
    },
    {
      "cell_type": "code",
      "metadata": {
        "id": "f_IMWzkBELYz",
        "colab_type": "code",
        "colab": {
          "base_uri": "https://localhost:8080/",
          "height": 315
        },
        "outputId": "7d443e7a-2a18-4e53-deb7-b77a46143d5e"
      },
      "source": [
        "df.hist('counts')"
      ],
      "execution_count": 8,
      "outputs": [
        {
          "output_type": "execute_result",
          "data": {
            "text/plain": [
              "array([[<matplotlib.axes._subplots.AxesSubplot object at 0x7fa94805f3c8>]],\n",
              "      dtype=object)"
            ]
          },
          "metadata": {
            "tags": []
          },
          "execution_count": 8
        },
        {
          "output_type": "display_data",
          "data": {
            "image/png": "[encoded data removed]",
            "text/plain": [
              "<Figure size 432x288 with 1 Axes>"
            ]
          },
          "metadata": {
            "tags": []
          }
        }
      ]
    },
    {
      "cell_type": "code",
      "metadata": {
        "id": "Ie4-yaKH8cgW",
        "colab_type": "code",
        "outputId": "f5b53480-3c73-428b-98a1-431b406e4b39",
        "colab": {
          "base_uri": "https://localhost:8080/",
          "height": 315
        }
      },
      "source": [
        "df.hist('counts', bins=np.array(range(10))*100)"
      ],
      "execution_count": 9,
      "outputs": [
        {
          "output_type": "execute_result",
          "data": {
            "text/plain": [
              "array([[<matplotlib.axes._subplots.AxesSubplot object at 0x7fa947fff828>]],\n",
              "      dtype=object)"
            ]
          },
          "metadata": {
            "tags": []
          },
          "execution_count": 9
        },
        {
          "output_type": "display_data",
          "data": {
            "image/png": "[encoded data removed]",
            "text/plain": [
              "<Figure size 432x288 with 1 Axes>"
            ]
          },
          "metadata": {
            "tags": []
          }
        }
      ]
    },
    {
      "cell_type": "markdown",
      "metadata": {
        "id": "0Ak2cTRcSWK3",
        "colab_type": "text"
      },
      "source": [
        "# Add zero counts"
      ]
    },
    {
      "cell_type": "code",
      "metadata": {
        "id": "5MiNnpvAQ0-T",
        "colab_type": "code",
        "outputId": "5e12c156-e586-4971-c103-ff61cab9502e",
        "colab": {
          "base_uri": "https://localhost:8080/",
          "height": 419
        }
      },
      "source": [
        "import numpy as np\n",
        "from ast import literal_eval\n",
        "\n",
        "zeros = pd.DataFrame({'global_cell_id':df.global_cell_id.unique()})\n",
        "zeros.insert(1, 'hour', str(list(range(24))))\n",
        "zeros['hour'] = zeros['hour'].apply(lambda x: literal_eval(x))\n",
        "zeros = zeros.explode('hour')\n",
        "zeros['counts'] = 0\n",
        "zeros"
      ],
      "execution_count": 10,
      "outputs": [
        {
          "output_type": "execute_result",
          "data": {
            "text/html": [
              "<div>\n",
              "<style scoped>\n",
              "    .dataframe tbody tr th:only-of-type {\n",
              "        vertical-align: middle;\n",
              "    }\n",
              "\n",
              "    .dataframe tbody tr th {\n",
              "        vertical-align: top;\n",
              "    }\n",
              "\n",
              "    .dataframe thead th {\n",
              "        text-align: right;\n",
              "    }\n",
              "</style>\n",
              "<table border=\"1\" class=\"dataframe\">\n",
              "  <thead>\n",
              "    <tr style=\"text-align: right;\">\n",
              "      <th></th>\n",
              "      <th>global_cell_id</th>\n",
              "      <th>hour</th>\n",
              "      <th>counts</th>\n",
              "    </tr>\n",
              "  </thead>\n",
              "  <tbody>\n",
              "    <tr>\n",
              "      <th>0</th>\n",
              "      <td>1603</td>\n",
              "      <td>0</td>\n",
              "      <td>0</td>\n",
              "    </tr>\n",
              "    <tr>\n",
              "      <th>0</th>\n",
              "      <td>1603</td>\n",
              "      <td>1</td>\n",
              "      <td>0</td>\n",
              "    </tr>\n",
              "    <tr>\n",
              "      <th>0</th>\n",
              "      <td>1603</td>\n",
              "      <td>2</td>\n",
              "      <td>0</td>\n",
              "    </tr>\n",
              "    <tr>\n",
              "      <th>0</th>\n",
              "      <td>1603</td>\n",
              "      <td>3</td>\n",
              "      <td>0</td>\n",
              "    </tr>\n",
              "    <tr>\n",
              "      <th>0</th>\n",
              "      <td>1603</td>\n",
              "      <td>4</td>\n",
              "      <td>0</td>\n",
              "    </tr>\n",
              "    <tr>\n",
              "      <th>...</th>\n",
              "      <td>...</td>\n",
              "      <td>...</td>\n",
              "      <td>...</td>\n",
              "    </tr>\n",
              "    <tr>\n",
              "      <th>103740</th>\n",
              "      <td>33666571</td>\n",
              "      <td>19</td>\n",
              "      <td>0</td>\n",
              "    </tr>\n",
              "    <tr>\n",
              "      <th>103740</th>\n",
              "      <td>33666571</td>\n",
              "      <td>20</td>\n",
              "      <td>0</td>\n",
              "    </tr>\n",
              "    <tr>\n",
              "      <th>103740</th>\n",
              "      <td>33666571</td>\n",
              "      <td>21</td>\n",
              "      <td>0</td>\n",
              "    </tr>\n",
              "    <tr>\n",
              "      <th>103740</th>\n",
              "      <td>33666571</td>\n",
              "      <td>22</td>\n",
              "      <td>0</td>\n",
              "    </tr>\n",
              "    <tr>\n",
              "      <th>103740</th>\n",
              "      <td>33666571</td>\n",
              "      <td>23</td>\n",
              "      <td>0</td>\n",
              "    </tr>\n",
              "  </tbody>\n",
              "</table>\n",
              "<p>2489784 rows × 3 columns</p>\n",
              "</div>"
            ],
            "text/plain": [
              "        global_cell_id hour  counts\n",
              "0                 1603    0       0\n",
              "0                 1603    1       0\n",
              "0                 1603    2       0\n",
              "0                 1603    3       0\n",
              "0                 1603    4       0\n",
              "...                ...  ...     ...\n",
              "103740        33666571   19       0\n",
              "103740        33666571   20       0\n",
              "103740        33666571   21       0\n",
              "103740        33666571   22       0\n",
              "103740        33666571   23       0\n",
              "\n",
              "[2489784 rows x 3 columns]"
            ]
          },
          "metadata": {
            "tags": []
          },
          "execution_count": 10
        }
      ]
    },
    {
      "cell_type": "code",
      "metadata": {
        "id": "8wmortb829en",
        "colab_type": "code",
        "outputId": "9ba3173f-e551-42d6-dc45-a10119a41fda",
        "colab": {
          "base_uri": "https://localhost:8080/",
          "height": 419
        }
      },
      "source": [
        "dfz = pd.merge(df, zeros, how='right', on=['global_cell_id', 'hour']).fillna(0)\n",
        "dfz['counts'] = dfz['counts_x'] + dfz['counts_y']\n",
        "dfz"
      ],
      "execution_count": 11,
      "outputs": [
        {
          "output_type": "execute_result",
          "data": {
            "text/html": [
              "<div>\n",
              "<style scoped>\n",
              "    .dataframe tbody tr th:only-of-type {\n",
              "        vertical-align: middle;\n",
              "    }\n",
              "\n",
              "    .dataframe tbody tr th {\n",
              "        vertical-align: top;\n",
              "    }\n",
              "\n",
              "    .dataframe thead th {\n",
              "        text-align: right;\n",
              "    }\n",
              "</style>\n",
              "<table border=\"1\" class=\"dataframe\">\n",
              "  <thead>\n",
              "    <tr style=\"text-align: right;\">\n",
              "      <th></th>\n",
              "      <th>hour</th>\n",
              "      <th>global_cell_id</th>\n",
              "      <th>counts_x</th>\n",
              "      <th>num_signals</th>\n",
              "      <th>counts_y</th>\n",
              "      <th>counts</th>\n",
              "    </tr>\n",
              "  </thead>\n",
              "  <tbody>\n",
              "    <tr>\n",
              "      <th>0</th>\n",
              "      <td>0.0</td>\n",
              "      <td>1603</td>\n",
              "      <td>5.0</td>\n",
              "      <td>24.0</td>\n",
              "      <td>0</td>\n",
              "      <td>5.0</td>\n",
              "    </tr>\n",
              "    <tr>\n",
              "      <th>1</th>\n",
              "      <td>0.0</td>\n",
              "      <td>132689012</td>\n",
              "      <td>5.0</td>\n",
              "      <td>7.0</td>\n",
              "      <td>0</td>\n",
              "      <td>5.0</td>\n",
              "    </tr>\n",
              "    <tr>\n",
              "      <th>2</th>\n",
              "      <td>0.0</td>\n",
              "      <td>21193</td>\n",
              "      <td>5.0</td>\n",
              "      <td>10.0</td>\n",
              "      <td>0</td>\n",
              "      <td>5.0</td>\n",
              "    </tr>\n",
              "    <tr>\n",
              "      <th>3</th>\n",
              "      <td>0.0</td>\n",
              "      <td>34099725</td>\n",
              "      <td>5.0</td>\n",
              "      <td>62.0</td>\n",
              "      <td>0</td>\n",
              "      <td>5.0</td>\n",
              "    </tr>\n",
              "    <tr>\n",
              "      <th>4</th>\n",
              "      <td>0.0</td>\n",
              "      <td>130097021</td>\n",
              "      <td>5.0</td>\n",
              "      <td>5.0</td>\n",
              "      <td>0</td>\n",
              "      <td>5.0</td>\n",
              "    </tr>\n",
              "    <tr>\n",
              "      <th>...</th>\n",
              "      <td>...</td>\n",
              "      <td>...</td>\n",
              "      <td>...</td>\n",
              "      <td>...</td>\n",
              "      <td>...</td>\n",
              "      <td>...</td>\n",
              "    </tr>\n",
              "    <tr>\n",
              "      <th>2554482</th>\n",
              "      <td>4.0</td>\n",
              "      <td>34659085</td>\n",
              "      <td>0.0</td>\n",
              "      <td>0.0</td>\n",
              "      <td>0</td>\n",
              "      <td>0.0</td>\n",
              "    </tr>\n",
              "    <tr>\n",
              "      <th>2554483</th>\n",
              "      <td>5.0</td>\n",
              "      <td>34659085</td>\n",
              "      <td>0.0</td>\n",
              "      <td>0.0</td>\n",
              "      <td>0</td>\n",
              "      <td>0.0</td>\n",
              "    </tr>\n",
              "    <tr>\n",
              "      <th>2554484</th>\n",
              "      <td>6.0</td>\n",
              "      <td>34659085</td>\n",
              "      <td>0.0</td>\n",
              "      <td>0.0</td>\n",
              "      <td>0</td>\n",
              "      <td>0.0</td>\n",
              "    </tr>\n",
              "    <tr>\n",
              "      <th>2554485</th>\n",
              "      <td>7.0</td>\n",
              "      <td>34659085</td>\n",
              "      <td>0.0</td>\n",
              "      <td>0.0</td>\n",
              "      <td>0</td>\n",
              "      <td>0.0</td>\n",
              "    </tr>\n",
              "    <tr>\n",
              "      <th>2554486</th>\n",
              "      <td>8.0</td>\n",
              "      <td>34659085</td>\n",
              "      <td>0.0</td>\n",
              "      <td>0.0</td>\n",
              "      <td>0</td>\n",
              "      <td>0.0</td>\n",
              "    </tr>\n",
              "  </tbody>\n",
              "</table>\n",
              "<p>2554487 rows × 6 columns</p>\n",
              "</div>"
            ],
            "text/plain": [
              "         hour  global_cell_id  counts_x  num_signals  counts_y  counts\n",
              "0         0.0            1603       5.0         24.0         0     5.0\n",
              "1         0.0       132689012       5.0          7.0         0     5.0\n",
              "2         0.0           21193       5.0         10.0         0     5.0\n",
              "3         0.0        34099725       5.0         62.0         0     5.0\n",
              "4         0.0       130097021       5.0          5.0         0     5.0\n",
              "...       ...             ...       ...          ...       ...     ...\n",
              "2554482   4.0        34659085       0.0          0.0         0     0.0\n",
              "2554483   5.0        34659085       0.0          0.0         0     0.0\n",
              "2554484   6.0        34659085       0.0          0.0         0     0.0\n",
              "2554485   7.0        34659085       0.0          0.0         0     0.0\n",
              "2554486   8.0        34659085       0.0          0.0         0     0.0\n",
              "\n",
              "[2554487 rows x 6 columns]"
            ]
          },
          "metadata": {
            "tags": []
          },
          "execution_count": 11
        }
      ]
    },
    {
      "cell_type": "code",
      "metadata": {
        "id": "OhyYQe5B29h1",
        "colab_type": "code",
        "outputId": "ead0a648-73c2-45ff-9a0d-dc5cfa9b5479",
        "colab": {
          "base_uri": "https://localhost:8080/",
          "height": 315
        }
      },
      "source": [
        "dfz.hist('counts', bins=range(50))"
      ],
      "execution_count": 12,
      "outputs": [
        {
          "output_type": "execute_result",
          "data": {
            "text/plain": [
              "array([[<matplotlib.axes._subplots.AxesSubplot object at 0x7fa947f81710>]],\n",
              "      dtype=object)"
            ]
          },
          "metadata": {
            "tags": []
          },
          "execution_count": 12
        },
        {
          "output_type": "display_data",
          "data": {
            "image/png": "[encoded data removed]",
            "text/plain": [
              "<Figure size 432x288 with 1 Axes>"
            ]
          },
          "metadata": {
            "tags": []
          }
        }
      ]
    },
    {
      "cell_type": "code",
      "metadata": {
        "id": "ZNruzcRl4YmV",
        "colab_type": "code",
        "outputId": "5037f54b-b9c1-479b-bdea-18be75c70243",
        "colab": {
          "base_uri": "https://localhost:8080/",
          "height": 281
        }
      },
      "source": [
        "dfz.hist('counts', bins=range(50))\n",
        "plt.yscale('log')"
      ],
      "execution_count": 13,
      "outputs": [
        {
          "output_type": "display_data",
          "data": {
            "image/png": "[encoded data removed]",
            "text/plain": [
              "<Figure size 432x288 with 1 Axes>"
            ]
          },
          "metadata": {
            "tags": []
          }
        }
      ]
    },
    {
      "cell_type": "code",
      "metadata": {
        "id": "g0tir45h31gU",
        "colab_type": "code",
        "outputId": "38bf83f9-880e-4150-d794-5292899c37d8",
        "colab": {
          "base_uri": "https://localhost:8080/",
          "height": 281
        }
      },
      "source": [
        "dfz.hist('counts', bins=range(1000))\n",
        "plt.yscale('log')\n",
        "#plt.xscale('log')"
      ],
      "execution_count": 14,
      "outputs": [
        {
          "output_type": "display_data",
          "data": {
            "image/png": "[encoded data removed]",
            "text/plain": [
              "<Figure size 432x288 with 1 Axes>"
            ]
          },
          "metadata": {
            "tags": []
          }
        }
      ]
    },
    {
      "cell_type": "markdown",
      "metadata": {
        "id": "e7_O73ow5C-w",
        "colab_type": "text"
      },
      "source": [
        "# Extrapolate to zero"
      ]
    },
    {
      "cell_type": "code",
      "metadata": {
        "id": "9OuxvKU_T7xl",
        "colab_type": "code",
        "colab": {}
      },
      "source": [
        "h = np.histogram(dfz['counts'], bins=range(1000))"
      ],
      "execution_count": 0,
      "outputs": []
    },
    {
      "cell_type": "code",
      "metadata": {
        "id": "wZz0dLMh5Hum",
        "colab_type": "code",
        "outputId": "681eaebe-7f68-4507-e0cd-ad351053ab7d",
        "colab": {
          "base_uri": "https://localhost:8080/",
          "height": 119
        }
      },
      "source": [
        "from scipy.optimize import curve_fit\n",
        "\n",
        "y = h[0][5:100]#999]\n",
        "x = h[1][5:100]#999]\n",
        "\n",
        "# Add a fictive point to control the model on the top\n",
        "x = [0] + list(x) \n",
        "y = [165000] + list(y) \n",
        "\n",
        "def func_powerlaw(x, m, c, c0):\n",
        "    return c0 + x**m * c\n",
        "\n",
        "sol1 = np.poly1d(np.polyfit(x, y, 10))\n",
        "sol2 = curve_fit(func_powerlaw, x, y, p0 = np.asarray([-1,10**5,0]))"
      ],
      "execution_count": 95,
      "outputs": [
        {
          "output_type": "stream",
          "text": [
            "/usr/local/lib/python3.6/dist-packages/ipykernel_launcher.py:11: RuntimeWarning: divide by zero encountered in reciprocal\n",
            "  # This is added back by InteractiveShellApp.init_path()\n",
            "/usr/local/lib/python3.6/dist-packages/ipykernel_launcher.py:11: RuntimeWarning: divide by zero encountered in power\n",
            "  # This is added back by InteractiveShellApp.init_path()\n",
            "/usr/local/lib/python3.6/dist-packages/scipy/optimize/minpack.py:808: OptimizeWarning: Covariance of the parameters could not be estimated\n",
            "  category=OptimizeWarning)\n"
          ],
          "name": "stderr"
        }
      ]
    },
    {
      "cell_type": "code",
      "metadata": {
        "id": "iEyvhJt7CiaA",
        "colab_type": "code",
        "colab": {
          "base_uri": "https://localhost:8080/",
          "height": 51
        },
        "outputId": "d362d524-9043-4f70-bb2b-b63f781dc65c"
      },
      "source": [
        "s1 = sol1(x)\n",
        "s2 = func_powerlaw(x, *sol2[0])"
      ],
      "execution_count": 96,
      "outputs": [
        {
          "output_type": "stream",
          "text": [
            "/usr/local/lib/python3.6/dist-packages/ipykernel_launcher.py:11: RuntimeWarning: divide by zero encountered in power\n",
            "  # This is added back by InteractiveShellApp.init_path()\n"
          ],
          "name": "stderr"
        }
      ]
    },
    {
      "cell_type": "code",
      "metadata": {
        "id": "qVL9XLnABsTy",
        "colab_type": "code",
        "outputId": "2624ebf2-9674-43a9-cbff-a8b1393e6ccc",
        "colab": {
          "base_uri": "https://localhost:8080/",
          "height": 282
        }
      },
      "source": [
        "plt.plot(x, y, label='data')\n",
        "plt.plot(x, s1, label='sol1')\n",
        "plt.plot(x, s2, label='sol2')\n",
        "plt.xlim([0, 50])\n",
        "plt.legend()"
      ],
      "execution_count": 97,
      "outputs": [
        {
          "output_type": "execute_result",
          "data": {
            "text/plain": [
              "<matplotlib.legend.Legend at 0x7fa947a45d30>"
            ]
          },
          "metadata": {
            "tags": []
          },
          "execution_count": 97
        },
        {
          "output_type": "display_data",
          "data": {
            "image/png": "[encoded data removed]",
            "text/plain": [
              "<Figure size 432x288 with 1 Axes>"
            ]
          },
          "metadata": {
            "tags": []
          }
        }
      ]
    },
    {
      "cell_type": "code",
      "metadata": {
        "id": "Oo7nkfSYMird",
        "colab_type": "code",
        "outputId": "b289cbd6-72ca-4fb8-88b8-fa3238ab0b37",
        "colab": {
          "base_uri": "https://localhost:8080/",
          "height": 282
        }
      },
      "source": [
        "plt.plot(x, y, label='data')\n",
        "plt.plot(x, s1, label='sol1')\n",
        "plt.plot(x, s2, label='sol2')\n",
        "#plt.xlim([0, 50])\n",
        "plt.yscale('log')\n",
        "plt.legend()"
      ],
      "execution_count": 98,
      "outputs": [
        {
          "output_type": "execute_result",
          "data": {
            "text/plain": [
              "<matplotlib.legend.Legend at 0x7fa947836c18>"
            ]
          },
          "metadata": {
            "tags": []
          },
          "execution_count": 98
        },
        {
          "output_type": "display_data",
          "data": {
            "image/png": "[encoded data removed]",
            "text/plain": [
              "<Figure size 432x288 with 1 Axes>"
            ]
          },
          "metadata": {
            "tags": []
          }
        }
      ]
    },
    {
      "cell_type": "code",
      "metadata": {
        "id": "Waa9p9vwEKUf",
        "colab_type": "code",
        "outputId": "cbf9e381-5f56-40f7-8b34-373542fc21f8",
        "colab": {
          "base_uri": "https://localhost:8080/",
          "height": 51
        }
      },
      "source": [
        "x_ = list(range(100))# + list(x)\n",
        "s2 = func_powerlaw(x_, *sol2[0])\n",
        "#print(x_[:30])"
      ],
      "execution_count": 99,
      "outputs": [
        {
          "output_type": "stream",
          "text": [
            "/usr/local/lib/python3.6/dist-packages/ipykernel_launcher.py:11: RuntimeWarning: divide by zero encountered in power\n",
            "  # This is added back by InteractiveShellApp.init_path()\n"
          ],
          "name": "stderr"
        }
      ]
    },
    {
      "cell_type": "code",
      "metadata": {
        "id": "cfyvaJMRFJJH",
        "colab_type": "code",
        "outputId": "5a29bba1-3736-4a5e-dbf4-790df7e185f3",
        "colab": {
          "base_uri": "https://localhost:8080/",
          "height": 282
        }
      },
      "source": [
        "y = h[0][:100]\n",
        "x = h[1][:100]\n",
        "\n",
        "plt.plot(x, y, label='data')\n",
        "plt.plot(x_, sol1(x_), label='sol1')\n",
        "plt.plot(x_, s2, label='sol2')\n",
        "#plt.xlim([0, 100])\n",
        "plt.yscale('log')\n",
        "#plt.xscale('log')\n",
        "plt.legend()"
      ],
      "execution_count": 100,
      "outputs": [
        {
          "output_type": "execute_result",
          "data": {
            "text/plain": [
              "<matplotlib.legend.Legend at 0x7fa946b9fc18>"
            ]
          },
          "metadata": {
            "tags": []
          },
          "execution_count": 100
        },
        {
          "output_type": "display_data",
          "data": {
            "image/png": "[encoded data removed]",
            "text/plain": [
              "<Figure size 432x288 with 1 Axes>"
            ]
          },
          "metadata": {
            "tags": []
          }
        }
      ]
    },
    {
      "cell_type": "code",
      "metadata": {
        "id": "_fI36vXiH1Xn",
        "colab_type": "code",
        "outputId": "3f79e8e3-d084-49e0-8dc7-7d2793468d2b",
        "colab": {
          "base_uri": "https://localhost:8080/",
          "height": 51
        }
      },
      "source": [
        "cumsum_ext1, cumsum_ext2, cumsum_real = 0, 0, 0\n",
        "for i in range(4):\n",
        "  #cumsum_real += y[i+1] * (i+1)\n",
        "  cumsum_ext2 += s2[i+1] * (i+1)\n",
        "  cumsum_ext1 += sol1(i+1) * (i+1)\n",
        "#print(\"cumsum_real:\", cumsum_real)\n",
        "print(\"cumsum_ext1:\", cumsum_ext1)\n",
        "print(\"cumsum_ext2:\", cumsum_ext2)\n",
        "#print(\"cumsum_diff1:\", cumsum_ext1 - cumsum_real)\n",
        "#print(\"cumsum_diff1 (%):\", cumsum_real /cumsum_ext1)\n",
        "\n",
        "#print(\"cumsum_diff2:\", cumsum_ext2 - cumsum_real)\n",
        "#print(\"cumsum_diff2 (%):\", cumsum_real /cumsum_ext2)\n"
      ],
      "execution_count": 101,
      "outputs": [
        {
          "output_type": "stream",
          "text": [
            "cumsum_ext1: 1324330.1817979515\n",
            "cumsum_ext2: 400000.0\n"
          ],
          "name": "stdout"
        }
      ]
    },
    {
      "cell_type": "code",
      "metadata": {
        "id": "Puybe-RrJ54x",
        "colab_type": "code",
        "colab": {
          "base_uri": "https://localhost:8080/",
          "height": 68
        },
        "outputId": "10746352-c77e-4a3d-b2a0-84db203b22b0"
      },
      "source": [
        "print(\"Total cell/h set to 0:\", y[0])\n",
        "print(\"Cummulative sum of cell/h from model1: \", sol1(0)  + sol1(1) + sol1(2) + sol1(3)  + sol1(4))\n",
        "print(\"Estimated K-5ed cell/h from model1: \", sol1(1) + sol1(2) + sol1(3)  + sol1(4))"
      ],
      "execution_count": 102,
      "outputs": [
        {
          "output_type": "stream",
          "text": [
            "Total cell/h set to 0: 707189\n",
            "Cummulative sum of cell/h from model1:  719752.8567100675\n",
            "Estimated K-5ed cell/h from model1:  553850.4327156595\n"
          ],
          "name": "stdout"
        }
      ]
    },
    {
      "cell_type": "markdown",
      "metadata": {
        "id": "jZ1deIMlUj3q",
        "colab_type": "text"
      },
      "source": [
        "## Cell/h analysis"
      ]
    },
    {
      "cell_type": "code",
      "metadata": {
        "id": "XrASDORhQH0s",
        "colab_type": "code",
        "colab": {
          "base_uri": "https://localhost:8080/",
          "height": 34
        },
        "outputId": "c73ebec9-7b8d-4cd7-9487-94f1e3678194"
      },
      "source": [
        "sum(h[0][1:])"
      ],
      "execution_count": 103,
      "outputs": [
        {
          "output_type": "execute_result",
          "data": {
            "text/plain": [
              "1842123"
            ]
          },
          "metadata": {
            "tags": []
          },
          "execution_count": 103
        }
      ]
    },
    {
      "cell_type": "code",
      "metadata": {
        "id": "xwGbfIXRC2fg",
        "colab_type": "code",
        "colab": {
          "base_uri": "https://localhost:8080/",
          "height": 51
        },
        "outputId": "bbc9f693-9884-4dfe-99ef-d25e2de303eb"
      },
      "source": [
        "print(\"Check that the total cell_id/h add up\")\n",
        "sum(h[0]) / 103741 / 24"
      ],
      "execution_count": 104,
      "outputs": [
        {
          "output_type": "stream",
          "text": [
            "Check that the total cell_id/h add up\n"
          ],
          "name": "stdout"
        },
        {
          "output_type": "execute_result",
          "data": {
            "text/plain": [
              "1.023908901334413"
            ]
          },
          "metadata": {
            "tags": []
          },
          "execution_count": 104
        }
      ]
    },
    {
      "cell_type": "code",
      "metadata": {
        "id": "LNmn_5WUDKSG",
        "colab_type": "code",
        "colab": {
          "base_uri": "https://localhost:8080/",
          "height": 34
        },
        "outputId": "84d4b646-9e9a-47d7-9c33-f0b7d7ed871d"
      },
      "source": [
        "print(\"Unique cell_ids: \",len(df.global_cell_id.unique()))"
      ],
      "execution_count": 105,
      "outputs": [
        {
          "output_type": "stream",
          "text": [
            "Unique cell_ids:  103741\n"
          ],
          "name": "stdout"
        }
      ]
    },
    {
      "cell_type": "code",
      "metadata": {
        "id": "7AaZcrPtDetc",
        "colab_type": "code",
        "colab": {
          "base_uri": "https://localhost:8080/",
          "height": 34
        },
        "outputId": "b01dd33f-efd1-4b29-ea7b-39447799cd5f"
      },
      "source": [
        "print(\"Equivalent of hour lost: \", 553850 / 103741)"
      ],
      "execution_count": 106,
      "outputs": [
        {
          "output_type": "stream",
          "text": [
            "Equivalent of hour lost:  5.338776375781996\n"
          ],
          "name": "stdout"
        }
      ]
    },
    {
      "cell_type": "code",
      "metadata": {
        "id": "khi4y7mJFkFC",
        "colab_type": "code",
        "colab": {
          "base_uri": "https://localhost:8080/",
          "height": 34
        },
        "outputId": "3e83983b-3821-45b2-88d1-dfe96b1837a5"
      },
      "source": [
        "print(\"% of loss cell/h: \", 553850 / (103741 * 24) * 100)"
      ],
      "execution_count": 107,
      "outputs": [
        {
          "output_type": "stream",
          "text": [
            "% of loss cell/h:  22.244901565758315\n"
          ],
          "name": "stdout"
        }
      ]
    },
    {
      "cell_type": "markdown",
      "metadata": {
        "id": "1kLZxqLzUv6P",
        "colab_type": "text"
      },
      "source": [
        "## Unique IMSI analysis"
      ]
    },
    {
      "cell_type": "code",
      "metadata": {
        "id": "a-y-Bpd9Pi3k",
        "colab_type": "code",
        "colab": {
          "base_uri": "https://localhost:8080/",
          "height": 68
        },
        "outputId": "1ec73512-eaee-4ff1-c7fe-c1db97a811db"
      },
      "source": [
        "unique_imsi = 1742722 # distinct identifiers from the activity table on 20200110\n",
        "total_unique_imsi_lost = sol1(1) + sol1(2) * 2 + sol1(3) * 3 + sol1(4) * 4\n",
        "print(\"total unique imsi lost: \", total_unique_imsi_lost)\n",
        "print(\"Average per hour - unique imsi lost: \", total_unique_imsi_lost / 24.)\n",
        "print(\"Average per hour - % unique imsi lost: \", total_unique_imsi_lost / 24./ unique_imsi * 100)\n"
      ],
      "execution_count": 110,
      "outputs": [
        {
          "output_type": "stream",
          "text": [
            "total unique imsi lost:  1324330.1817979515\n",
            "Average per hour - unique imsi lost:  55180.42424158131\n",
            "Average per hour - % unique imsi lost:  3.1663354362647236\n"
          ],
          "name": "stdout"
        }
      ]
    },
    {
      "cell_type": "markdown",
      "metadata": {
        "id": "NbyXtCZdkop5",
        "colab_type": "text"
      },
      "source": [
        "# AM"
      ]
    },
    {
      "cell_type": "code",
      "metadata": {
        "id": "PcLCNgDwOt97",
        "colab_type": "code",
        "colab": {}
      },
      "source": [
        "dfz_am = dfz[(dfz['hour'] >= 1) & (dfz['hour'] <= 4)]\n",
        "dfz_pm = dfz[(dfz['hour'] >= 13) & (dfz['hour'] <= 16)]"
      ],
      "execution_count": 0,
      "outputs": []
    },
    {
      "cell_type": "code",
      "metadata": {
        "id": "9tZ0ui-_PEQy",
        "colab_type": "code",
        "outputId": "31e53e0c-a6c2-49d6-8d08-83a841c8a9ee",
        "colab": {
          "base_uri": "https://localhost:8080/",
          "height": 281
        }
      },
      "source": [
        "dfz_am.hist('counts', bins=range(50))\n",
        "plt.yscale('log')"
      ],
      "execution_count": 137,
      "outputs": [
        {
          "output_type": "display_data",
          "data": {
            "image/png": "[encoded data removed]",
            "text/plain": [
              "<Figure size 432x288 with 1 Axes>"
            ]
          },
          "metadata": {
            "tags": []
          }
        }
      ]
    },
    {
      "cell_type": "code",
      "metadata": {
        "id": "CfySauTYkrep",
        "colab_type": "code",
        "colab": {
          "base_uri": "https://localhost:8080/",
          "height": 384
        },
        "outputId": "20d1603a-cd5e-4850-f438-cd627ffe6ec3"
      },
      "source": [
        "h_am = np.histogram(dfz_am['counts'], bins=range(1000))\n",
        "y = h_am[0][5:100]#999]\n",
        "x = h_am[1][5:100]#999]\n",
        "\n",
        "# Add a fictive point to control the model on the top\n",
        "x = [0] + list(x) \n",
        "y = [80000] + list(y) \n",
        "\n",
        "sol1 = np.poly1d(np.polyfit(x, y, 15))\n",
        "sol2 = curve_fit(func_powerlaw, x, y, p0 = np.asarray([-1,10**5,0]))\n",
        "\n",
        "# Extrapolate to 0\n",
        "x_ = list(range(100)) # + list(x)\n",
        "s2 = func_powerlaw(x_, *sol2[0])\n",
        "\n",
        "y = h_am[0][:100]\n",
        "x = h_am[1][:100]\n",
        "\n",
        "plt.plot(x, y, label='data')\n",
        "plt.plot(x_, sol1(x_), label='sol1')\n",
        "plt.plot(x_, s2, label='sol2')\n",
        "#plt.xlim([0, 100])\n",
        "plt.yscale('log')\n",
        "#plt.xscale('log')\n",
        "plt.legend()"
      ],
      "execution_count": 138,
      "outputs": [
        {
          "output_type": "stream",
          "text": [
            "/usr/local/lib/python3.6/dist-packages/ipykernel_launcher.py:11: RuntimeWarning: divide by zero encountered in reciprocal\n",
            "  # This is added back by InteractiveShellApp.init_path()\n",
            "/usr/local/lib/python3.6/dist-packages/ipykernel_launcher.py:11: RuntimeWarning: divide by zero encountered in power\n",
            "  # This is added back by InteractiveShellApp.init_path()\n",
            "/usr/local/lib/python3.6/dist-packages/scipy/optimize/minpack.py:808: OptimizeWarning: Covariance of the parameters could not be estimated\n",
            "  category=OptimizeWarning)\n"
          ],
          "name": "stderr"
        },
        {
          "output_type": "execute_result",
          "data": {
            "text/plain": [
              "<matplotlib.legend.Legend at 0x7fa9456f2390>"
            ]
          },
          "metadata": {
            "tags": []
          },
          "execution_count": 138
        },
        {
          "output_type": "display_data",
          "data": {
            "image/png": "[encoded data removed]",
            "text/plain": [
              "<Figure size 432x288 with 1 Axes>"
            ]
          },
          "metadata": {
            "tags": []
          }
        }
      ]
    },
    {
      "cell_type": "code",
      "metadata": {
        "id": "DHWGiWpekriW",
        "colab_type": "code",
        "colab": {
          "base_uri": "https://localhost:8080/",
          "height": 51
        },
        "outputId": "99adce5e-4c0c-4d1a-88e1-c8393e2dc70e"
      },
      "source": [
        "cumsum_ext1_am, cumsum_ext2_am, cumsum_real = 0, 0, 0\n",
        "for i in range(4):\n",
        "  #cumsum_real += y[i+1] * (i+1)\n",
        "  cumsum_ext2_am += s2[i+1] * (i+1)\n",
        "  cumsum_ext1_am += sol1(i+1) * (i+1)\n",
        "#print(\"cumsum_real:\", cumsum_real)\n",
        "#print(\"Missing cells:\")\n",
        "print(\"cumsum_ext1:\", cumsum_ext1_am)\n",
        "print(\"cumsum_ext2:\", cumsum_ext2_am)\n",
        "#print(\"cumsum_diff1:\", cumsum_ext1 - cumsum_real)\n",
        "#print(\"cumsum_diff1 (%):\", cumsum_real /cumsum_ext1)\n",
        "\n",
        "#print(\"cumsum_diff2:\", cumsum_ext2 - cumsum_real)\n",
        "#print(\"cumsum_diff2 (%):\", cumsum_real /cumsum_ext2)"
      ],
      "execution_count": 139,
      "outputs": [
        {
          "output_type": "stream",
          "text": [
            "cumsum_ext1: 308574.59208808123\n",
            "cumsum_ext2: 400000.0\n"
          ],
          "name": "stdout"
        }
      ]
    },
    {
      "cell_type": "code",
      "metadata": {
        "id": "TI6FBrln1mYJ",
        "colab_type": "code",
        "colab": {
          "base_uri": "https://localhost:8080/",
          "height": 51
        },
        "outputId": "24d28b8a-a652-46e6-d854-ff7e893464bc"
      },
      "source": [
        "print(\"Total cell/h set to 0:\", y[0])\n",
        "print(\"Cummulative sum of cell/h from model1: \", sol1(0)  + sol1(1) + sol1(2) + sol1(3)  + sol1(4))\n",
        "#print(\"Cummulative sum of cell/h from model2: \", sol2(0)  + sol2(1) + sol2(2) + sol2(3)  + sol2(4))"
      ],
      "execution_count": 140,
      "outputs": [
        {
          "output_type": "stream",
          "text": [
            "Total cell/h set to 0: 223238\n",
            "Cummulative sum of cell/h from model1:  225679.37028495184\n"
          ],
          "name": "stdout"
        }
      ]
    },
    {
      "cell_type": "code",
      "metadata": {
        "colab_type": "code",
        "outputId": "fec93e2c-a134-4f5f-f5a4-2cad8bfb5a2c",
        "id": "oV7oRY6sciJn",
        "colab": {
          "base_uri": "https://localhost:8080/",
          "height": 68
        }
      },
      "source": [
        "print(\"Total cell/h set to 0:\", y[0])\n",
        "print(\"Cummulative sum of cell/h from model1: \", sol1(0)  + sol1(1) + sol1(2) + sol1(3)  + sol1(4))\n",
        "print(\"Estimated K-5ed cell/h from model1: \", sol1(1) + sol1(2) + sol1(3)  + sol1(4))"
      ],
      "execution_count": 141,
      "outputs": [
        {
          "output_type": "stream",
          "text": [
            "Total cell/h set to 0: 223238\n",
            "Cummulative sum of cell/h from model1:  225679.37028495184\n",
            "Estimated K-5ed cell/h from model1:  145682.00108931883\n"
          ],
          "name": "stdout"
        }
      ]
    },
    {
      "cell_type": "markdown",
      "metadata": {
        "colab_type": "text",
        "id": "WpFARJ9jciJq"
      },
      "source": [
        "## Cell/h analysis"
      ]
    },
    {
      "cell_type": "code",
      "metadata": {
        "colab_type": "code",
        "outputId": "dedf5af3-d66b-466c-b2c5-72f9775ed065",
        "id": "cbzMHzvVciJr",
        "colab": {
          "base_uri": "https://localhost:8080/",
          "height": 34
        }
      },
      "source": [
        "sum(h_am[0][1:])"
      ],
      "execution_count": 142,
      "outputs": [
        {
          "output_type": "execute_result",
          "data": {
            "text/plain": [
              "191799"
            ]
          },
          "metadata": {
            "tags": []
          },
          "execution_count": 142
        }
      ]
    },
    {
      "cell_type": "code",
      "metadata": {
        "colab_type": "code",
        "outputId": "415d5d09-5f9f-4ebe-cda1-8b6ae2dc2afc",
        "id": "tFvngu6SciJt",
        "colab": {
          "base_uri": "https://localhost:8080/",
          "height": 51
        }
      },
      "source": [
        "print(\"Check that the total cell_id/h add up\")\n",
        "sum(h_am[0]) / 103741 / 4"
      ],
      "execution_count": 143,
      "outputs": [
        {
          "output_type": "stream",
          "text": [
            "Check that the total cell_id/h add up\n"
          ],
          "name": "stdout"
        },
        {
          "output_type": "execute_result",
          "data": {
            "text/plain": [
              "1.0001759188748904"
            ]
          },
          "metadata": {
            "tags": []
          },
          "execution_count": 143
        }
      ]
    },
    {
      "cell_type": "code",
      "metadata": {
        "colab_type": "code",
        "outputId": "f5f6cc33-784b-4fdf-fd94-42377f7f9ef7",
        "id": "wGV4E-5FciJv",
        "colab": {
          "base_uri": "https://localhost:8080/",
          "height": 34
        }
      },
      "source": [
        "print(\"Unique cell_ids: \",len(df.global_cell_id.unique()))"
      ],
      "execution_count": 144,
      "outputs": [
        {
          "output_type": "stream",
          "text": [
            "Unique cell_ids:  103741\n"
          ],
          "name": "stdout"
        }
      ]
    },
    {
      "cell_type": "code",
      "metadata": {
        "colab_type": "code",
        "outputId": "5f996d59-0048-49f9-941b-6f3f99e67bee",
        "id": "QT3tMdjwciJy",
        "colab": {
          "base_uri": "https://localhost:8080/",
          "height": 34
        }
      },
      "source": [
        "print(\"Equivalent of hour lost: \", (sol1(1) + sol1(2) + sol1(3)  + sol1(4)) / 103741)"
      ],
      "execution_count": 145,
      "outputs": [
        {
          "output_type": "stream",
          "text": [
            "Equivalent of hour lost:  1.4042856834744106\n"
          ],
          "name": "stdout"
        }
      ]
    },
    {
      "cell_type": "code",
      "metadata": {
        "colab_type": "code",
        "outputId": "4225aa36-4435-4079-afa2-70a436dd531a",
        "id": "IzbJzrRqciJ0",
        "colab": {
          "base_uri": "https://localhost:8080/",
          "height": 34
        }
      },
      "source": [
        "print(\"% of loss cell/h: \", (sol1(1) + sol1(2) + sol1(3)  + sol1(4)) / (103741 * 4) * 100)"
      ],
      "execution_count": 146,
      "outputs": [
        {
          "output_type": "stream",
          "text": [
            "% of loss cell/h:  35.107142086860264\n"
          ],
          "name": "stdout"
        }
      ]
    },
    {
      "cell_type": "markdown",
      "metadata": {
        "colab_type": "text",
        "id": "FG00PFavciJ3"
      },
      "source": [
        "## Unique IMSI analysis"
      ]
    },
    {
      "cell_type": "code",
      "metadata": {
        "colab_type": "code",
        "outputId": "617b659b-b249-4157-dc0e-7db8bc25cf24",
        "id": "E2LROiV2ciJ4",
        "colab": {
          "base_uri": "https://localhost:8080/",
          "height": 68
        }
      },
      "source": [
        "total_unique_imsi_lost_am = sol1(1) + sol1(2) * 2 + sol1(3) * 3 + sol1(4) * 4\n",
        "print(\"AM total unique imsi lost: \", total_unique_imsi_lost_am)\n",
        "print(\"AM Average per hour - unique imsi lost: \", total_unique_imsi_lost_am / 4.)\n",
        "print(\"Average per hour - % unique imsi lost: \", total_unique_imsi_lost_am / 4./ unique_imsi * 100)"
      ],
      "execution_count": 147,
      "outputs": [
        {
          "output_type": "stream",
          "text": [
            "AM total unique imsi lost:  308574.59208808123\n",
            "AM Average per hour - unique imsi lost:  77143.64802202031\n",
            "Average per hour - % unique imsi lost:  4.426618130833277\n"
          ],
          "name": "stdout"
        }
      ]
    },
    {
      "cell_type": "markdown",
      "metadata": {
        "colab_type": "text",
        "id": "7P3Bw5sjnkGm"
      },
      "source": [
        "# PM"
      ]
    },
    {
      "cell_type": "code",
      "metadata": {
        "colab_type": "code",
        "id": "x8jrwNUSnkGq",
        "colab": {}
      },
      "source": [
        "dfz_pm = dfz[(dfz['hour'] >= 13) & (dfz['hour'] <= 16)]"
      ],
      "execution_count": 0,
      "outputs": []
    },
    {
      "cell_type": "code",
      "metadata": {
        "colab_type": "code",
        "outputId": "a781b4c6-b468-4d76-e2f4-053b030cd938",
        "id": "PCJmhSV_nkGu",
        "colab": {
          "base_uri": "https://localhost:8080/",
          "height": 281
        }
      },
      "source": [
        "dfz_pm.hist('counts', bins=range(50))\n",
        "plt.yscale('log')"
      ],
      "execution_count": 124,
      "outputs": [
        {
          "output_type": "display_data",
          "data": {
            "image/png": "[encoded data removed]",
            "text/plain": [
              "<Figure size 432x288 with 1 Axes>"
            ]
          },
          "metadata": {
            "tags": []
          }
        }
      ]
    },
    {
      "cell_type": "code",
      "metadata": {
        "colab_type": "code",
        "outputId": "80460c79-0d6d-4e9f-e511-e06143c3d551",
        "id": "4lkUaVJ1nkGx",
        "colab": {
          "base_uri": "https://localhost:8080/",
          "height": 384
        }
      },
      "source": [
        "h_pm = np.histogram(dfz_pm['counts'], bins=range(1000))\n",
        "y = h_pm[0][5:100]#999]\n",
        "x = h_pm[1][5:100]#999]\n",
        "\n",
        "# Add a fictive point to control the model on the top\n",
        "x = [0] + list(x) \n",
        "y = [2000] + list(y) \n",
        "\n",
        "sol1 = np.poly1d(np.polyfit(x, y, 10))\n",
        "sol2 = curve_fit(func_powerlaw, x, y, p0 = np.asarray([-1,10**5,0]))\n",
        "\n",
        "# Extrapolate to 0\n",
        "x_ = list(range(100)) #+ list(x)\n",
        "s2 = func_powerlaw(x_, *sol2[0])\n",
        "\n",
        "y = h_pm[0][:100]\n",
        "x = h_pm[1][:100]\n",
        "\n",
        "plt.plot(x, y, label='data')\n",
        "plt.plot(x_, sol1(x_), label='sol1')\n",
        "plt.plot(x_, s2, label='sol2')\n",
        "#plt.xlim([0, 100])\n",
        "plt.yscale('log')\n",
        "#plt.xscale('log')\n",
        "plt.legend()"
      ],
      "execution_count": 125,
      "outputs": [
        {
          "output_type": "stream",
          "text": [
            "/usr/local/lib/python3.6/dist-packages/ipykernel_launcher.py:11: RuntimeWarning: divide by zero encountered in reciprocal\n",
            "  # This is added back by InteractiveShellApp.init_path()\n",
            "/usr/local/lib/python3.6/dist-packages/ipykernel_launcher.py:11: RuntimeWarning: divide by zero encountered in power\n",
            "  # This is added back by InteractiveShellApp.init_path()\n",
            "/usr/local/lib/python3.6/dist-packages/scipy/optimize/minpack.py:808: OptimizeWarning: Covariance of the parameters could not be estimated\n",
            "  category=OptimizeWarning)\n"
          ],
          "name": "stderr"
        },
        {
          "output_type": "execute_result",
          "data": {
            "text/plain": [
              "<matplotlib.legend.Legend at 0x7fa9459b9e48>"
            ]
          },
          "metadata": {
            "tags": []
          },
          "execution_count": 125
        },
        {
          "output_type": "display_data",
          "data": {
            "image/png": "[encoded data removed]",
            "text/plain": [
              "<Figure size 432x288 with 1 Axes>"
            ]
          },
          "metadata": {
            "tags": []
          }
        }
      ]
    },
    {
      "cell_type": "code",
      "metadata": {
        "colab_type": "code",
        "outputId": "1a6a319f-01a3-4f1a-b2a7-119b5d75036e",
        "id": "xVcXiH6fnkG4",
        "colab": {
          "base_uri": "https://localhost:8080/",
          "height": 51
        }
      },
      "source": [
        "cumsum_ext1_pm, cumsum_ext2_pm, cumsum_real = 0, 0, 0\n",
        "for i in range(4):\n",
        "  #cumsum_real += y[i+1] * (i+1)\n",
        "  cumsum_ext2_pm += s2[i+1] * (i+1)\n",
        "  cumsum_ext1_pm += sol1(i+1) * (i+1)\n",
        "#print(\"cumsum_real:\", cumsum_real)\n",
        "print(\"cumsum_ext1:\", cumsum_ext1_pm)\n",
        "print(\"cumsum_ext2:\", cumsum_ext2_pm)\n",
        "#print(\"cumsum_diff1:\", cumsum_ext1 - cumsum_real)\n",
        "#print(\"cumsum_diff1 (%):\", cumsum_real /cumsum_ext1)\n",
        "\n",
        "#print(\"cumsum_diff2:\", cumsum_ext2 - cumsum_real)\n",
        "#print(\"cumsum_diff2 (%):\", cumsum_real /cumsum_ext2)"
      ],
      "execution_count": 126,
      "outputs": [
        {
          "output_type": "stream",
          "text": [
            "cumsum_ext1: 152845.4841632042\n",
            "cumsum_ext2: 400000.0\n"
          ],
          "name": "stdout"
        }
      ]
    },
    {
      "cell_type": "code",
      "metadata": {
        "id": "5u2u0B7okrnZ",
        "colab_type": "code",
        "colab": {
          "base_uri": "https://localhost:8080/",
          "height": 51
        },
        "outputId": "35a766af-2de3-4e95-cfb5-c8af54c00e38"
      },
      "source": [
        "print(\"Total cell/h set to 0:\", y[0])\n",
        "print(\"Cummulative sum of cell/h from model1: \", sol1(0)  + sol1(1) + sol1(2) + sol1(3)  + sol1(4))\n",
        "#print(\"Cummulative sum of cell/h from model2: \", s2[0]  + s2[1] + s2[2] + s2[3]  + s2[4])"
      ],
      "execution_count": 127,
      "outputs": [
        {
          "output_type": "stream",
          "text": [
            "Total cell/h set to 0: 57453\n",
            "Cummulative sum of cell/h from model1:  58435.200331938315\n"
          ],
          "name": "stdout"
        }
      ]
    },
    {
      "cell_type": "code",
      "metadata": {
        "colab_type": "code",
        "outputId": "ba36d4c6-3568-4c32-80be-05953696837b",
        "id": "WsS3mkhCckRf",
        "colab": {
          "base_uri": "https://localhost:8080/",
          "height": 68
        }
      },
      "source": [
        "print(\"Total cell/h set to 0:\", y[0])\n",
        "print(\"Cummulative sum of cell/h from model1: \", sol1(0)  + sol1(1) + sol1(2) + sol1(3)  + sol1(4))\n",
        "print(\"Estimated K-5ed cell/h from model1: \", sol1(1) + sol1(2) + sol1(3)  + sol1(4))"
      ],
      "execution_count": 128,
      "outputs": [
        {
          "output_type": "stream",
          "text": [
            "Total cell/h set to 0: 57453\n",
            "Cummulative sum of cell/h from model1:  58435.200331938315\n",
            "Estimated K-5ed cell/h from model1:  56096.591397805234\n"
          ],
          "name": "stdout"
        }
      ]
    },
    {
      "cell_type": "markdown",
      "metadata": {
        "colab_type": "text",
        "id": "guS7tK_7ckRj"
      },
      "source": [
        "## Cell/h analysis"
      ]
    },
    {
      "cell_type": "code",
      "metadata": {
        "colab_type": "code",
        "outputId": "964c3cd1-ce80-4f8f-acab-f6e887ba903c",
        "id": "L3Jg8zi2ckRk",
        "colab": {
          "base_uri": "https://localhost:8080/",
          "height": 51
        }
      },
      "source": [
        "print(\"Unique cell_ids: \",len(df.global_cell_id.unique()))\n",
        "sum(h_pm[0][1:])"
      ],
      "execution_count": 129,
      "outputs": [
        {
          "output_type": "stream",
          "text": [
            "Unique cell_ids:  103741\n"
          ],
          "name": "stdout"
        },
        {
          "output_type": "execute_result",
          "data": {
            "text/plain": [
              "375201"
            ]
          },
          "metadata": {
            "tags": []
          },
          "execution_count": 129
        }
      ]
    },
    {
      "cell_type": "code",
      "metadata": {
        "colab_type": "code",
        "outputId": "f0eb3611-8811-48cf-abd1-2c5a73e68c03",
        "id": "4wZOH7c2ckRm",
        "colab": {
          "base_uri": "https://localhost:8080/",
          "height": 51
        }
      },
      "source": [
        "print(\"Check that the total cell_id/h add up PM\")\n",
        "sum(h_pm[0]) / 103741 / 4"
      ],
      "execution_count": 130,
      "outputs": [
        {
          "output_type": "stream",
          "text": [
            "Check that the total cell_id/h add up PM\n"
          ],
          "name": "stdout"
        },
        {
          "output_type": "execute_result",
          "data": {
            "text/plain": [
              "1.0426302040658948"
            ]
          },
          "metadata": {
            "tags": []
          },
          "execution_count": 130
        }
      ]
    },
    {
      "cell_type": "code",
      "metadata": {
        "colab_type": "code",
        "outputId": "3b31a09e-c688-4fdc-a97f-6a84f950189c",
        "id": "WVkgXo8LckR0",
        "colab": {
          "base_uri": "https://localhost:8080/",
          "height": 34
        }
      },
      "source": [
        "print(\"PM Equivalent of hour lost: \", (sol1(1) + sol1(2) + sol1(3)  + sol1(4)) / 103741)"
      ],
      "execution_count": 131,
      "outputs": [
        {
          "output_type": "stream",
          "text": [
            "PM Equivalent of hour lost:  0.5407369448704489\n"
          ],
          "name": "stdout"
        }
      ]
    },
    {
      "cell_type": "code",
      "metadata": {
        "colab_type": "code",
        "outputId": "19a94413-b79d-4e51-8fdf-1e6a97aa2ee8",
        "id": "T41bM_pEckR5",
        "colab": {
          "base_uri": "https://localhost:8080/",
          "height": 34
        }
      },
      "source": [
        "print(\"% of loss cell/h: \", (sol1(1) + sol1(2) + sol1(3)  + sol1(4)) / (103741 * 4) * 100)"
      ],
      "execution_count": 132,
      "outputs": [
        {
          "output_type": "stream",
          "text": [
            "% of loss cell/h:  13.518423621761222\n"
          ],
          "name": "stdout"
        }
      ]
    },
    {
      "cell_type": "markdown",
      "metadata": {
        "colab_type": "text",
        "id": "IJAgx1BBckR7"
      },
      "source": [
        "## Unique IMSI analysis"
      ]
    },
    {
      "cell_type": "code",
      "metadata": {
        "colab_type": "code",
        "outputId": "d50ba634-5985-4d48-b919-b6ad03e41c6d",
        "id": "xs7LrX5YckR8",
        "colab": {
          "base_uri": "https://localhost:8080/",
          "height": 68
        }
      },
      "source": [
        "total_unique_imsi_lost_pm = sol1(1) + sol1(2) * 2 + sol1(3) * 3 + sol1(4) * 4\n",
        "print(\"PM total unique imsi lost: \", total_unique_imsi_lost_pm)\n",
        "print(\"PM Average per hour - unique imsi lost: \", total_unique_imsi_lost_pm / 4.)\n",
        "print(\"Average per hour - % unique imsi lost: \", total_unique_imsi_lost_pm / 4./ unique_imsi * 100)"
      ],
      "execution_count": 135,
      "outputs": [
        {
          "output_type": "stream",
          "text": [
            "PM total unique imsi lost:  152845.4841632042\n",
            "PM Average per hour - unique imsi lost:  38211.37104080105\n",
            "Average per hour - % unique imsi lost:  2.192625733811879\n"
          ],
          "name": "stdout"
        }
      ]
    },
    {
      "cell_type": "code",
      "metadata": {
        "id": "sVOHN3YQkrlW",
        "colab_type": "code",
        "colab": {
          "base_uri": "https://localhost:8080/",
          "height": 34
        },
        "outputId": "fd0fc644-49b2-4ecc-b936-c7ca7a493809"
      },
      "source": [
        "sol1(0)"
      ],
      "execution_count": 134,
      "outputs": [
        {
          "output_type": "execute_result",
          "data": {
            "text/plain": [
              "2338.6089341330853"
            ]
          },
          "metadata": {
            "tags": []
          },
          "execution_count": 134
        }
      ]
    },
    {
      "cell_type": "markdown",
      "metadata": {
        "id": "AVwxXs_JP9A3",
        "colab_type": "text"
      },
      "source": [
        "#Conclusions:\n",
        "\n",
        "From 1 day of data - there were around:\n",
        "- 707,189 - Cells/h without any pings\n",
        "- ~553,850 - Cells/h were removed from K-5\n",
        "- **That's the equivalent of over 5h blackout!** (for 103,741 cell_ids)\n",
        "- or a 22% cell/h loss\n",
        "- Unique imsi lost (Average per hour): 55,180\n",
        "- % unique imsi lost (Average per hour):  3.16\n",
        "\n",
        "AM vs PM:\n",
        "\n",
        "Metric | AM | PM\n",
        "--- | --- | ---\n",
        "Equivalent of hour lost (out of 4) | 1.4 | 0.54\n",
        "Cells/h removed from K-5 | 145,682 | 56,097\n",
        "**% of lost cell/h**  | **35.1** | **13.5**\n",
        "Unique imsi lost (Average per hour) | 77,144 | 38,211\n",
        "% unique imsi lost (Average per hour) | 4.42 | 2.2\n",
        "\n",
        "\n",
        "\n"
      ]
    },
    {
      "cell_type": "code",
      "metadata": {
        "id": "1DpWGpvOGqYS",
        "colab_type": "code",
        "colab": {}
      },
      "source": [
        ""
      ],
      "execution_count": 0,
      "outputs": []
    }
  ]
}